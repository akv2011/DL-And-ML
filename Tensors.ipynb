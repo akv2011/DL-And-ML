{
  "nbformat": 4,
  "nbformat_minor": 0,
  "metadata": {
    "colab": {
      "provenance": [],
      "authorship_tag": "ABX9TyPGti0Vie6DDISjJ9mWSC3A",
      "include_colab_link": true
    },
    "kernelspec": {
      "name": "python3",
      "display_name": "Python 3"
    },
    "language_info": {
      "name": "python"
    }
  },
  "cells": [
    {
      "cell_type": "markdown",
      "metadata": {
        "id": "view-in-github",
        "colab_type": "text"
      },
      "source": [
        "<a href=\"https://colab.research.google.com/github/akv2011/DL-And-ML/blob/main/Tensors.ipynb\" target=\"_parent\"><img src=\"https://colab.research.google.com/assets/colab-badge.svg\" alt=\"Open In Colab\"/></a>"
      ]
    },
    {
      "cell_type": "code",
      "execution_count": null,
      "metadata": {
        "id": "m8pnMUhO8yxk"
      },
      "outputs": [],
      "source": [
        "import tensorflow as tf\n"
      ]
    },
    {
      "cell_type": "code",
      "source": [
        "tensor_zero_df=tf.constant(4)\n",
        "print(tensor_zero_df)"
      ],
      "metadata": {
        "colab": {
          "base_uri": "https://localhost:8080/"
        },
        "id": "0cABkhOBETkW",
        "outputId": "116799b0-465f-4fa5-9c2d-8a12a771dc20"
      },
      "execution_count": null,
      "outputs": [
        {
          "output_type": "stream",
          "name": "stdout",
          "text": [
            "tf.Tensor(4, shape=(), dtype=int32)\n"
          ]
        }
      ]
    },
    {
      "cell_type": "code",
      "source": [
        "tensor_one_df=tf.constant([2,0,-3,8,90])\n",
        "print(tensor_one_df)"
      ],
      "metadata": {
        "colab": {
          "base_uri": "https://localhost:8080/"
        },
        "id": "aEWLDP0DFodR",
        "outputId": "b354ce61-4cc8-41bc-a4b8-cafb73510044"
      },
      "execution_count": null,
      "outputs": [
        {
          "output_type": "stream",
          "name": "stdout",
          "text": [
            "tf.Tensor([ 2  0 -3  8 90], shape=(5,), dtype=int32)\n"
          ]
        }
      ]
    },
    {
      "cell_type": "code",
      "source": [
        "tensor_two_df=tf.constant([\n",
        "    [2,3,45],\n",
        "    [44,5,674],\n",
        "    [4,554,66]\n",
        "])\n",
        "print(tensor_two_df)"
      ],
      "metadata": {
        "colab": {
          "base_uri": "https://localhost:8080/"
        },
        "id": "_hzjkAC9IeBq",
        "outputId": "1805dfcb-6d74-4600-ded6-264f73c78336"
      },
      "execution_count": null,
      "outputs": [
        {
          "output_type": "stream",
          "name": "stdout",
          "text": [
            "tf.Tensor(\n",
            "[[  2   3  45]\n",
            " [ 44   5 674]\n",
            " [  4 554  66]], shape=(3, 3), dtype=int32)\n"
          ]
        }
      ]
    },
    {
      "cell_type": "code",
      "source": [
        "tensor_three_df=tf.constant([\n",
        "\n",
        "[[ 2,3 ,45],\n",
        "[ 44 ,5 ,674]],\n",
        "\n",
        "[[  4 ,554,  66],\n",
        " [4,645,3]],\n",
        "\n",
        "[[4,6,3],\n",
        " [4,556,4]],\n",
        "\n",
        " [[44,3,3],\n",
        "  [45,54,3]]\n",
        "\n",
        " ])\n",
        "print(tensor_three_df)\n"
      ],
      "metadata": {
        "colab": {
          "base_uri": "https://localhost:8080/"
        },
        "id": "V9wWKYCaX-JU",
        "outputId": "8cc3686c-1e28-412f-da73-992a8c05bff2"
      },
      "execution_count": 33,
      "outputs": [
        {
          "output_type": "stream",
          "name": "stdout",
          "text": [
            "tf.Tensor(\n",
            "[[[  2   3  45]\n",
            "  [ 44   5 674]]\n",
            "\n",
            " [[  4 554  66]\n",
            "  [  4 645   3]]\n",
            "\n",
            " [[  4   6   3]\n",
            "  [  4 556   4]]\n",
            "\n",
            " [[ 44   3   3]\n",
            "  [ 45  54   3]]], shape=(4, 2, 3), dtype=int32)\n"
          ]
        }
      ]
    },
    {
      "cell_type": "code",
      "source": [
        "print(tensor_three_df.shape\n",
        "      )"
      ],
      "metadata": {
        "id": "PibuKI6_YS_5",
        "outputId": "e4664717-5a99-4fb0-d6a4-39eb45589027",
        "colab": {
          "base_uri": "https://localhost:8080/"
        }
      },
      "execution_count": 35,
      "outputs": [
        {
          "output_type": "stream",
          "name": "stdout",
          "text": [
            "(4, 2, 3)\n"
          ]
        }
      ]
    },
    {
      "cell_type": "code",
      "source": [
        "print(tensor_three_df.ndim)"
      ],
      "metadata": {
        "id": "v4zE4YiFYcGT",
        "outputId": "5e22c352-3237-4ff9-b442-0ab464a2e585",
        "colab": {
          "base_uri": "https://localhost:8080/"
        }
      },
      "execution_count": 36,
      "outputs": [
        {
          "output_type": "stream",
          "name": "stdout",
          "text": [
            "3\n"
          ]
        }
      ]
    },
    {
      "cell_type": "code",
      "source": [
        "tensor_four_df=tf.constant([\n",
        "\n",
        "[[[ 2,3 ,45],\n",
        "[ 44 ,5 ,674]],\n",
        "\n",
        "[[  4 ,554,  66],\n",
        " [4,645,3]],\n",
        "\n",
        "[[4,6,3],\n",
        " [4,556,4]],\n",
        "\n",
        " [[44,3,3],\n",
        "  [45,54,3]]],\n",
        "\n",
        "\n",
        "\n",
        "[[[12,3 ,45],\n",
        "[ 44 ,45 ,674]],\n",
        "\n",
        "[[44 ,54,  66],\n",
        " [4,65,3]],\n",
        "\n",
        "[[4,46,3],\n",
        " [4,56,4]],\n",
        "\n",
        " [[4,3,3],\n",
        "  [5,4,3]]],\n",
        "\n",
        "\n",
        "\n",
        "[[[72,43 ,45],\n",
        "[ 7 ,45 ,674]],\n",
        "\n",
        "[[7 ,54,  66],\n",
        " [4,5,3]],\n",
        "\n",
        "[[414,46,3],\n",
        " [4,56,4]],\n",
        "\n",
        " [[44,3,3],\n",
        "  [5,4,3]]],\n",
        "\n",
        "  ])\n",
        "\n",
        "print(tensor_four_df)"
      ],
      "metadata": {
        "id": "K6ZDa-iQYpf8",
        "outputId": "a1ec60f5-8a51-4816-8511-856cc172208e",
        "colab": {
          "base_uri": "https://localhost:8080/"
        }
      },
      "execution_count": 37,
      "outputs": [
        {
          "output_type": "stream",
          "name": "stdout",
          "text": [
            "tf.Tensor(\n",
            "[[[[  2   3  45]\n",
            "   [ 44   5 674]]\n",
            "\n",
            "  [[  4 554  66]\n",
            "   [  4 645   3]]\n",
            "\n",
            "  [[  4   6   3]\n",
            "   [  4 556   4]]\n",
            "\n",
            "  [[ 44   3   3]\n",
            "   [ 45  54   3]]]\n",
            "\n",
            "\n",
            " [[[ 12   3  45]\n",
            "   [ 44  45 674]]\n",
            "\n",
            "  [[ 44  54  66]\n",
            "   [  4  65   3]]\n",
            "\n",
            "  [[  4  46   3]\n",
            "   [  4  56   4]]\n",
            "\n",
            "  [[  4   3   3]\n",
            "   [  5   4   3]]]\n",
            "\n",
            "\n",
            " [[[ 72  43  45]\n",
            "   [  7  45 674]]\n",
            "\n",
            "  [[  7  54  66]\n",
            "   [  4   5   3]]\n",
            "\n",
            "  [[414  46   3]\n",
            "   [  4  56   4]]\n",
            "\n",
            "  [[ 44   3   3]\n",
            "   [  5   4   3]]]], shape=(3, 4, 2, 3), dtype=int32)\n"
          ]
        }
      ]
    },
    {
      "cell_type": "markdown",
      "source": [
        " shape=(3, 4, 2, 3)\n",
        "\n",
        " Shape is from Row To column read from down"
      ],
      "metadata": {
        "id": "EmrHml9SZj61"
      }
    },
    {
      "cell_type": "code",
      "source": [],
      "metadata": {
        "id": "AW7Kiri4Zvtr"
      },
      "execution_count": null,
      "outputs": []
    }
  ]
}