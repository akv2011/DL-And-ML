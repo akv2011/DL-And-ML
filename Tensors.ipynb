{
  "nbformat": 4,
  "nbformat_minor": 0,
  "metadata": {
    "colab": {
      "provenance": [],
      "authorship_tag": "ABX9TyMVP6tqpIOYBbDQc3DZBKF1",
      "include_colab_link": true
    },
    "kernelspec": {
      "name": "python3",
      "display_name": "Python 3"
    },
    "language_info": {
      "name": "python"
    }
  },
  "cells": [
    {
      "cell_type": "markdown",
      "metadata": {
        "id": "view-in-github",
        "colab_type": "text"
      },
      "source": [
        "<a href=\"https://colab.research.google.com/github/akv2011/DL-And-ML/blob/main/Tensors.ipynb\" target=\"_parent\"><img src=\"https://colab.research.google.com/assets/colab-badge.svg\" alt=\"Open In Colab\"/></a>"
      ]
    },
    {
      "cell_type": "code",
      "execution_count": null,
      "metadata": {
        "id": "m8pnMUhO8yxk"
      },
      "outputs": [],
      "source": [
        "import tensorflow as tf\n"
      ]
    },
    {
      "cell_type": "code",
      "source": [
        "tensor_zero_df=tf.constant(4)\n",
        "print(tensor_zero_df)"
      ],
      "metadata": {
        "colab": {
          "base_uri": "https://localhost:8080/"
        },
        "id": "0cABkhOBETkW",
        "outputId": "116799b0-465f-4fa5-9c2d-8a12a771dc20"
      },
      "execution_count": null,
      "outputs": [
        {
          "output_type": "stream",
          "name": "stdout",
          "text": [
            "tf.Tensor(4, shape=(), dtype=int32)\n"
          ]
        }
      ]
    },
    {
      "cell_type": "code",
      "source": [
        "tensor_one_df=tf.constant([2,0,-3,8,90])\n",
        "print(tensor_one_df)"
      ],
      "metadata": {
        "colab": {
          "base_uri": "https://localhost:8080/"
        },
        "id": "aEWLDP0DFodR",
        "outputId": "b354ce61-4cc8-41bc-a4b8-cafb73510044"
      },
      "execution_count": null,
      "outputs": [
        {
          "output_type": "stream",
          "name": "stdout",
          "text": [
            "tf.Tensor([ 2  0 -3  8 90], shape=(5,), dtype=int32)\n"
          ]
        }
      ]
    },
    {
      "cell_type": "code",
      "source": [
        "tensor_one_df=tf.constant([2,0.4,-3,8.,9.0,0.],dtype=tf.float32)\n",
        "cast_tensor_df=tf.cast(tensor_one_df,dtype=tf.int16)\n",
        "cast1_tensor_df=tf.cast(tensor_one_df,dtype=tf.bool)\n",
        "print(tensor_one_df)\n",
        "print(cast_tensor_df)\n",
        "print(cast1_tensor_df)"
      ],
      "metadata": {
        "id": "R_BQSlJwct--",
        "outputId": "e49800d8-7fb9-4527-9367-f2bd12e2e025",
        "colab": {
          "base_uri": "https://localhost:8080/"
        }
      },
      "execution_count": null,
      "outputs": [
        {
          "output_type": "stream",
          "name": "stdout",
          "text": [
            "tf.Tensor([ 2.   0.4 -3.   8.   9.   0. ], shape=(6,), dtype=float32)\n",
            "tf.Tensor([ 2  0 -3  8  9  0], shape=(6,), dtype=int16)\n",
            "tf.Tensor([ True  True  True  True  True False], shape=(6,), dtype=bool)\n"
          ]
        }
      ]
    },
    {
      "cell_type": "code",
      "source": [
        "tensor_two_df=tf.constant([\n",
        "    [2,3,45],\n",
        "    [44,5,674],\n",
        "    [4,554,66]\n",
        "])\n",
        "print(tensor_two_df)"
      ],
      "metadata": {
        "colab": {
          "base_uri": "https://localhost:8080/"
        },
        "id": "_hzjkAC9IeBq",
        "outputId": "1805dfcb-6d74-4600-ded6-264f73c78336"
      },
      "execution_count": null,
      "outputs": [
        {
          "output_type": "stream",
          "name": "stdout",
          "text": [
            "tf.Tensor(\n",
            "[[  2   3  45]\n",
            " [ 44   5 674]\n",
            " [  4 554  66]], shape=(3, 3), dtype=int32)\n"
          ]
        }
      ]
    },
    {
      "cell_type": "code",
      "source": [
        "tensor_three_df=tf.constant([\n",
        "\n",
        "[[ 2,3 ,45],\n",
        "[ 44 ,5 ,674]],\n",
        "\n",
        "[[  4 ,554,  66],\n",
        " [4,645,3]],\n",
        "\n",
        "[[4,6,3],\n",
        " [4,556,4]],\n",
        "\n",
        " [[44,3,3],\n",
        "  [45,54,3]]\n",
        "\n",
        " ])\n",
        "print(tensor_three_df)\n"
      ],
      "metadata": {
        "colab": {
          "base_uri": "https://localhost:8080/"
        },
        "id": "V9wWKYCaX-JU",
        "outputId": "8cc3686c-1e28-412f-da73-992a8c05bff2"
      },
      "execution_count": null,
      "outputs": [
        {
          "output_type": "stream",
          "name": "stdout",
          "text": [
            "tf.Tensor(\n",
            "[[[  2   3  45]\n",
            "  [ 44   5 674]]\n",
            "\n",
            " [[  4 554  66]\n",
            "  [  4 645   3]]\n",
            "\n",
            " [[  4   6   3]\n",
            "  [  4 556   4]]\n",
            "\n",
            " [[ 44   3   3]\n",
            "  [ 45  54   3]]], shape=(4, 2, 3), dtype=int32)\n"
          ]
        }
      ]
    },
    {
      "cell_type": "code",
      "source": [
        "print(tensor_three_df.shape\n",
        "      )"
      ],
      "metadata": {
        "colab": {
          "base_uri": "https://localhost:8080/"
        },
        "id": "PibuKI6_YS_5",
        "outputId": "e4664717-5a99-4fb0-d6a4-39eb45589027"
      },
      "execution_count": null,
      "outputs": [
        {
          "output_type": "stream",
          "name": "stdout",
          "text": [
            "(4, 2, 3)\n"
          ]
        }
      ]
    },
    {
      "cell_type": "code",
      "source": [
        "print(tensor_three_df.ndim)"
      ],
      "metadata": {
        "colab": {
          "base_uri": "https://localhost:8080/"
        },
        "id": "v4zE4YiFYcGT",
        "outputId": "5e22c352-3237-4ff9-b442-0ab464a2e585"
      },
      "execution_count": null,
      "outputs": [
        {
          "output_type": "stream",
          "name": "stdout",
          "text": [
            "3\n"
          ]
        }
      ]
    },
    {
      "cell_type": "code",
      "source": [
        "tensor_four_df=tf.constant([\n",
        "\n",
        "[[[ 2,3 ,45],\n",
        "[ 44 ,5 ,674]],\n",
        "\n",
        "[[  4 ,554,  66],\n",
        " [4,645,3]],\n",
        "\n",
        "[[4,6,3],\n",
        " [4,556,4]],\n",
        "\n",
        " [[44,3,3],\n",
        "  [45,54,3]]],\n",
        "\n",
        "\n",
        "\n",
        "[[[12,3 ,45],\n",
        "[ 44 ,45 ,674]],\n",
        "\n",
        "[[44 ,54,  66],\n",
        " [4,65,3]],\n",
        "\n",
        "[[4,46,3],\n",
        " [4,56,4]],\n",
        "\n",
        " [[4,3,3],\n",
        "  [5,4,3]]],\n",
        "\n",
        "\n",
        "\n",
        "[[[72,43 ,45],\n",
        "[ 7 ,45 ,674]],\n",
        "\n",
        "[[7 ,54,  66],\n",
        " [4,5,3]],\n",
        "\n",
        "[[414,46,3],\n",
        " [4,56,4]],\n",
        "\n",
        " [[44,3,3],\n",
        "  [5,4,3]]],\n",
        "\n",
        "  ])\n",
        "\n",
        "print(tensor_four_df)"
      ],
      "metadata": {
        "colab": {
          "base_uri": "https://localhost:8080/"
        },
        "id": "K6ZDa-iQYpf8",
        "outputId": "a1ec60f5-8a51-4816-8511-856cc172208e"
      },
      "execution_count": null,
      "outputs": [
        {
          "output_type": "stream",
          "name": "stdout",
          "text": [
            "tf.Tensor(\n",
            "[[[[  2   3  45]\n",
            "   [ 44   5 674]]\n",
            "\n",
            "  [[  4 554  66]\n",
            "   [  4 645   3]]\n",
            "\n",
            "  [[  4   6   3]\n",
            "   [  4 556   4]]\n",
            "\n",
            "  [[ 44   3   3]\n",
            "   [ 45  54   3]]]\n",
            "\n",
            "\n",
            " [[[ 12   3  45]\n",
            "   [ 44  45 674]]\n",
            "\n",
            "  [[ 44  54  66]\n",
            "   [  4  65   3]]\n",
            "\n",
            "  [[  4  46   3]\n",
            "   [  4  56   4]]\n",
            "\n",
            "  [[  4   3   3]\n",
            "   [  5   4   3]]]\n",
            "\n",
            "\n",
            " [[[ 72  43  45]\n",
            "   [  7  45 674]]\n",
            "\n",
            "  [[  7  54  66]\n",
            "   [  4   5   3]]\n",
            "\n",
            "  [[414  46   3]\n",
            "   [  4  56   4]]\n",
            "\n",
            "  [[ 44   3   3]\n",
            "   [  5   4   3]]]], shape=(3, 4, 2, 3), dtype=int32)\n"
          ]
        }
      ]
    },
    {
      "cell_type": "markdown",
      "source": [
        " shape=(3, 4, 2, 3)\n",
        "\n",
        " Shape is from Row To column read from down\n",
        "\n",
        " int32\n",
        " can i use int 16 but memory allocation will be less ..thsu in  memory constraint tensors use lower precison."
      ],
      "metadata": {
        "id": "EmrHml9SZj61"
      }
    },
    {
      "cell_type": "code",
      "source": [
        "tensor_bool=tf.constant([True,False,True])\n",
        "print(tensor_bool)"
      ],
      "metadata": {
        "colab": {
          "base_uri": "https://localhost:8080/"
        },
        "id": "AW7Kiri4Zvtr",
        "outputId": "214716bd-497d-4038-e7ba-01550e6c0aa9"
      },
      "execution_count": null,
      "outputs": [
        {
          "output_type": "stream",
          "name": "stdout",
          "text": [
            "tf.Tensor([ True False  True], shape=(3,), dtype=bool)\n"
          ]
        }
      ]
    },
    {
      "cell_type": "code",
      "source": [
        "tensor_string=tf.constant([\"hello world\",\"hi\"])\n",
        "print(tensor_string)"
      ],
      "metadata": {
        "id": "mGAclVn8hCwb",
        "outputId": "16bed866-0f66-437b-f889-908d55d85926",
        "colab": {
          "base_uri": "https://localhost:8080/"
        }
      },
      "execution_count": null,
      "outputs": [
        {
          "output_type": "stream",
          "name": "stdout",
          "text": [
            "tf.Tensor([b'hello world' b'hi'], shape=(2,), dtype=string)\n"
          ]
        }
      ]
    },
    {
      "cell_type": "markdown",
      "source": [
        "**Numpy To Tensor**"
      ],
      "metadata": {
        "id": "KswEglGshnlF"
      }
    },
    {
      "cell_type": "code",
      "source": [
        "import numpy as np\n",
        "np_array=np.array([1,2,3,4])\n",
        "print(np_array)\n"
      ],
      "metadata": {
        "id": "p5jQo4achvv2",
        "outputId": "c3880dda-1e62-4e8d-8b9b-5af33c47c461",
        "colab": {
          "base_uri": "https://localhost:8080/"
        }
      },
      "execution_count": null,
      "outputs": [
        {
          "output_type": "stream",
          "name": "stdout",
          "text": [
            "[1 2 3 4]\n"
          ]
        }
      ]
    },
    {
      "cell_type": "code",
      "source": [
        "converted_tensor=tf.convert_to_tensor(np_array)\n",
        "print(converted_tensor)"
      ],
      "metadata": {
        "id": "FRDx65BwiJ61",
        "outputId": "3b5ff1ad-2575-445c-85aa-a5c4d26a5af4",
        "colab": {
          "base_uri": "https://localhost:8080/"
        }
      },
      "execution_count": null,
      "outputs": [
        {
          "output_type": "stream",
          "name": "stdout",
          "text": [
            "tf.Tensor([1 2 3 4], shape=(4,), dtype=int64)\n"
          ]
        }
      ]
    },
    {
      "cell_type": "code",
      "source": [
        "eye_tensor=tf.eye(\n",
        "    num_rows=3,\n",
        "    num_columns=None,\n",
        "    batch_shape=None,\n",
        "    dtype=tf.dtypes.float32,\n",
        "    name=None\n",
        ")\n",
        "print(eye_tensor)\n",
        "print(3*eye_tensor)"
      ],
      "metadata": {
        "colab": {
          "base_uri": "https://localhost:8080/"
        },
        "id": "9wS8Uxz5gqvP",
        "outputId": "4ba478b8-6f61-45a7-d29a-15abc4fc33a7"
      },
      "execution_count": 56,
      "outputs": [
        {
          "output_type": "stream",
          "name": "stdout",
          "text": [
            "tf.Tensor(\n",
            "[[1. 0. 0.]\n",
            " [0. 1. 0.]\n",
            " [0. 0. 1.]], shape=(3, 3), dtype=float32)\n",
            "tf.Tensor(\n",
            "[[3. 0. 0.]\n",
            " [0. 3. 0.]\n",
            " [0. 0. 3.]], shape=(3, 3), dtype=float32)\n"
          ]
        }
      ]
    },
    {
      "cell_type": "code",
      "source": [
        "eye_tensor=tf.eye(\n",
        "    num_rows=3,\n",
        "    num_columns=None,\n",
        "    batch_shape=None,\n",
        "    dtype=tf.dtypes.bool,\n",
        "    name=None\n",
        ")\n",
        "print(eye_tensor)"
      ],
      "metadata": {
        "colab": {
          "base_uri": "https://localhost:8080/"
        },
        "id": "gcyNrWF6hJd4",
        "outputId": "1b03ad71-29d1-4c30-c0e5-6ddd16e156ba"
      },
      "execution_count": 57,
      "outputs": [
        {
          "output_type": "stream",
          "name": "stdout",
          "text": [
            "tf.Tensor(\n",
            "[[ True False False]\n",
            " [False  True False]\n",
            " [False False  True]], shape=(3, 3), dtype=bool)\n"
          ]
        }
      ]
    },
    {
      "cell_type": "code",
      "source": [],
      "metadata": {
        "id": "l56d3QdYh0dS"
      },
      "execution_count": null,
      "outputs": []
    }
  ]
}