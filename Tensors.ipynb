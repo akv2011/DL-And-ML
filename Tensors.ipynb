{
  "nbformat": 4,
  "nbformat_minor": 0,
  "metadata": {
    "colab": {
      "provenance": [],
      "authorship_tag": "ABX9TyPktjnytPsc8O6iQOlCUAjj",
      "include_colab_link": true
    },
    "kernelspec": {
      "name": "python3",
      "display_name": "Python 3"
    },
    "language_info": {
      "name": "python"
    }
  },
  "cells": [
    {
      "cell_type": "markdown",
      "metadata": {
        "id": "view-in-github",
        "colab_type": "text"
      },
      "source": [
        "<a href=\"https://colab.research.google.com/github/akv2011/DL-And-ML/blob/main/Tensors.ipynb\" target=\"_parent\"><img src=\"https://colab.research.google.com/assets/colab-badge.svg\" alt=\"Open In Colab\"/></a>"
      ]
    },
    {
      "cell_type": "code",
      "execution_count": 3,
      "metadata": {
        "id": "m8pnMUhO8yxk"
      },
      "outputs": [],
      "source": [
        "import tensorflow as tf\n"
      ]
    },
    {
      "cell_type": "code",
      "source": [
        "tensor_zero_df=tf.constant(4)\n",
        "print(tensor_zero_df)"
      ],
      "metadata": {
        "colab": {
          "base_uri": "https://localhost:8080/"
        },
        "id": "0cABkhOBETkW",
        "outputId": "d5bdc7ee-02ba-4c4c-9b09-a08f5c90094a"
      },
      "execution_count": 4,
      "outputs": [
        {
          "output_type": "stream",
          "name": "stdout",
          "text": [
            "tf.Tensor(4, shape=(), dtype=int32)\n"
          ]
        }
      ]
    },
    {
      "cell_type": "code",
      "source": [
        "tensor_one_df=tf.constant([2,0,-3,8,90])\n",
        "print(tensor_one_df)"
      ],
      "metadata": {
        "colab": {
          "base_uri": "https://localhost:8080/"
        },
        "id": "aEWLDP0DFodR",
        "outputId": "25aec729-cee8-4c0a-a55b-48ebf2d7d2a4"
      },
      "execution_count": 5,
      "outputs": [
        {
          "output_type": "stream",
          "name": "stdout",
          "text": [
            "tf.Tensor([ 2  0 -3  8 90], shape=(5,), dtype=int32)\n"
          ]
        }
      ]
    },
    {
      "cell_type": "code",
      "source": [
        "tensor_one_df=tf.constant([2,0.4,-3,8.,9.0,0.],dtype=tf.float32)\n",
        "cast_tensor_df=tf.cast(tensor_one_df,dtype=tf.int16)\n",
        "cast1_tensor_df=tf.cast(tensor_one_df,dtype=tf.bool)\n",
        "print(tensor_one_df)\n",
        "print(cast_tensor_df)\n",
        "print(cast1_tensor_df)"
      ],
      "metadata": {
        "id": "R_BQSlJwct--",
        "outputId": "adf467fa-cf58-499b-8c4e-7f836e4a4dcf",
        "colab": {
          "base_uri": "https://localhost:8080/"
        }
      },
      "execution_count": 6,
      "outputs": [
        {
          "output_type": "stream",
          "name": "stdout",
          "text": [
            "tf.Tensor([ 2.   0.4 -3.   8.   9.   0. ], shape=(6,), dtype=float32)\n",
            "tf.Tensor([ 2  0 -3  8  9  0], shape=(6,), dtype=int16)\n",
            "tf.Tensor([ True  True  True  True  True False], shape=(6,), dtype=bool)\n"
          ]
        }
      ]
    },
    {
      "cell_type": "code",
      "source": [
        "tensor_two_df=tf.constant([\n",
        "    [2,3,45],\n",
        "    [44,5,674],\n",
        "    [4,554,66]\n",
        "])\n",
        "print(tensor_two_df)"
      ],
      "metadata": {
        "colab": {
          "base_uri": "https://localhost:8080/"
        },
        "id": "_hzjkAC9IeBq",
        "outputId": "585a3c54-e8d2-4fce-f514-71bb50a8a08a"
      },
      "execution_count": 7,
      "outputs": [
        {
          "output_type": "stream",
          "name": "stdout",
          "text": [
            "tf.Tensor(\n",
            "[[  2   3  45]\n",
            " [ 44   5 674]\n",
            " [  4 554  66]], shape=(3, 3), dtype=int32)\n"
          ]
        }
      ]
    },
    {
      "cell_type": "code",
      "source": [
        "tensor_three_df=tf.constant([\n",
        "\n",
        "[[ 2,3 ,45],\n",
        "[ 44 ,5 ,674]],\n",
        "\n",
        "[[  4 ,554,  66],\n",
        " [4,645,3]],\n",
        "\n",
        "[[4,6,3],\n",
        " [4,556,4]],\n",
        "\n",
        " [[44,3,3],\n",
        "  [45,54,3]]\n",
        "\n",
        " ])\n",
        "print(tensor_three_df)\n"
      ],
      "metadata": {
        "colab": {
          "base_uri": "https://localhost:8080/"
        },
        "id": "V9wWKYCaX-JU",
        "outputId": "b43b686e-a5b5-4347-ca30-c8a74e40efea"
      },
      "execution_count": 8,
      "outputs": [
        {
          "output_type": "stream",
          "name": "stdout",
          "text": [
            "tf.Tensor(\n",
            "[[[  2   3  45]\n",
            "  [ 44   5 674]]\n",
            "\n",
            " [[  4 554  66]\n",
            "  [  4 645   3]]\n",
            "\n",
            " [[  4   6   3]\n",
            "  [  4 556   4]]\n",
            "\n",
            " [[ 44   3   3]\n",
            "  [ 45  54   3]]], shape=(4, 2, 3), dtype=int32)\n"
          ]
        }
      ]
    },
    {
      "cell_type": "code",
      "source": [
        "print(tensor_three_df.shape\n",
        "      )"
      ],
      "metadata": {
        "colab": {
          "base_uri": "https://localhost:8080/"
        },
        "id": "PibuKI6_YS_5",
        "outputId": "d4f984e7-bdc5-4c87-bb81-959b7cb5771d"
      },
      "execution_count": 9,
      "outputs": [
        {
          "output_type": "stream",
          "name": "stdout",
          "text": [
            "(4, 2, 3)\n"
          ]
        }
      ]
    },
    {
      "cell_type": "code",
      "source": [
        "print(tensor_three_df.ndim)"
      ],
      "metadata": {
        "colab": {
          "base_uri": "https://localhost:8080/"
        },
        "id": "v4zE4YiFYcGT",
        "outputId": "6affbd0b-3691-4174-a190-ba917fbb79f7"
      },
      "execution_count": 10,
      "outputs": [
        {
          "output_type": "stream",
          "name": "stdout",
          "text": [
            "3\n"
          ]
        }
      ]
    },
    {
      "cell_type": "code",
      "source": [
        "tensor_four_df=tf.constant([\n",
        "\n",
        "[[[ 2,3 ,45],\n",
        "[ 44 ,5 ,674]],\n",
        "\n",
        "[[  4 ,554,  66],\n",
        " [4,645,3]],\n",
        "\n",
        "[[4,6,3],\n",
        " [4,556,4]],\n",
        "\n",
        " [[44,3,3],\n",
        "  [45,54,3]]],\n",
        "\n",
        "\n",
        "\n",
        "[[[12,3 ,45],\n",
        "[ 44 ,45 ,674]],\n",
        "\n",
        "[[44 ,54,  66],\n",
        " [4,65,3]],\n",
        "\n",
        "[[4,46,3],\n",
        " [4,56,4]],\n",
        "\n",
        " [[4,3,3],\n",
        "  [5,4,3]]],\n",
        "\n",
        "\n",
        "\n",
        "[[[72,43 ,45],\n",
        "[ 7 ,45 ,674]],\n",
        "\n",
        "[[7 ,54,  66],\n",
        " [4,5,3]],\n",
        "\n",
        "[[414,46,3],\n",
        " [4,56,4]],\n",
        "\n",
        " [[44,3,3],\n",
        "  [5,4,3]]],\n",
        "\n",
        "  ])\n",
        "\n",
        "print(tensor_four_df)"
      ],
      "metadata": {
        "colab": {
          "base_uri": "https://localhost:8080/"
        },
        "id": "K6ZDa-iQYpf8",
        "outputId": "a1327ea4-8e72-4e88-901d-0e0a2a556167"
      },
      "execution_count": 11,
      "outputs": [
        {
          "output_type": "stream",
          "name": "stdout",
          "text": [
            "tf.Tensor(\n",
            "[[[[  2   3  45]\n",
            "   [ 44   5 674]]\n",
            "\n",
            "  [[  4 554  66]\n",
            "   [  4 645   3]]\n",
            "\n",
            "  [[  4   6   3]\n",
            "   [  4 556   4]]\n",
            "\n",
            "  [[ 44   3   3]\n",
            "   [ 45  54   3]]]\n",
            "\n",
            "\n",
            " [[[ 12   3  45]\n",
            "   [ 44  45 674]]\n",
            "\n",
            "  [[ 44  54  66]\n",
            "   [  4  65   3]]\n",
            "\n",
            "  [[  4  46   3]\n",
            "   [  4  56   4]]\n",
            "\n",
            "  [[  4   3   3]\n",
            "   [  5   4   3]]]\n",
            "\n",
            "\n",
            " [[[ 72  43  45]\n",
            "   [  7  45 674]]\n",
            "\n",
            "  [[  7  54  66]\n",
            "   [  4   5   3]]\n",
            "\n",
            "  [[414  46   3]\n",
            "   [  4  56   4]]\n",
            "\n",
            "  [[ 44   3   3]\n",
            "   [  5   4   3]]]], shape=(3, 4, 2, 3), dtype=int32)\n"
          ]
        }
      ]
    },
    {
      "cell_type": "markdown",
      "source": [
        " shape=(3, 4, 2, 3)\n",
        "\n",
        " Shape is from Row To column read from down\n",
        "\n",
        " int32\n",
        " can i use int 16 but memory allocation will be less ..thsu in  memory constraint tensors use lower precison."
      ],
      "metadata": {
        "id": "EmrHml9SZj61"
      }
    },
    {
      "cell_type": "code",
      "source": [
        "tensor_bool=tf.constant([True,False,True])\n",
        "print(tensor_bool)"
      ],
      "metadata": {
        "colab": {
          "base_uri": "https://localhost:8080/"
        },
        "id": "AW7Kiri4Zvtr",
        "outputId": "c9dd84b1-cff6-4a0a-f86c-01dd3123f367"
      },
      "execution_count": 12,
      "outputs": [
        {
          "output_type": "stream",
          "name": "stdout",
          "text": [
            "tf.Tensor([ True False  True], shape=(3,), dtype=bool)\n"
          ]
        }
      ]
    },
    {
      "cell_type": "code",
      "source": [
        "tensor_string=tf.constant([\"hello world\",\"hi\"])\n",
        "print(tensor_string)"
      ],
      "metadata": {
        "id": "mGAclVn8hCwb",
        "outputId": "21bc265c-41b0-4770-8959-dd69854ca714",
        "colab": {
          "base_uri": "https://localhost:8080/"
        }
      },
      "execution_count": 13,
      "outputs": [
        {
          "output_type": "stream",
          "name": "stdout",
          "text": [
            "tf.Tensor([b'hello world' b'hi'], shape=(2,), dtype=string)\n"
          ]
        }
      ]
    },
    {
      "cell_type": "markdown",
      "source": [
        "**Numpy To Tensor**"
      ],
      "metadata": {
        "id": "KswEglGshnlF"
      }
    },
    {
      "cell_type": "code",
      "source": [
        "import numpy as np\n",
        "np_array=np.array([1,2,3,4])\n",
        "print(np_array)\n"
      ],
      "metadata": {
        "id": "p5jQo4achvv2",
        "outputId": "c48378ab-5ab1-4fca-f9ad-62ae41ec1970",
        "colab": {
          "base_uri": "https://localhost:8080/"
        }
      },
      "execution_count": 14,
      "outputs": [
        {
          "output_type": "stream",
          "name": "stdout",
          "text": [
            "[1 2 3 4]\n"
          ]
        }
      ]
    },
    {
      "cell_type": "code",
      "source": [
        "converted_tensor=tf.convert_to_tensor(np_array)\n",
        "print(converted_tensor)"
      ],
      "metadata": {
        "id": "FRDx65BwiJ61",
        "outputId": "7cb3529e-3d11-4e2c-cd82-451a268ca5e6",
        "colab": {
          "base_uri": "https://localhost:8080/"
        }
      },
      "execution_count": 15,
      "outputs": [
        {
          "output_type": "stream",
          "name": "stdout",
          "text": [
            "tf.Tensor([1 2 3 4], shape=(4,), dtype=int64)\n"
          ]
        }
      ]
    },
    {
      "cell_type": "code",
      "source": [
        "eye_tensor=tf.eye(\n",
        "    num_rows=3,\n",
        "    num_columns=None,\n",
        "    batch_shape=None,\n",
        "    dtype=tf.dtypes.float32,\n",
        "    name=None\n",
        ")\n",
        "print(eye_tensor)\n",
        "print(3*eye_tensor)"
      ],
      "metadata": {
        "colab": {
          "base_uri": "https://localhost:8080/"
        },
        "id": "9wS8Uxz5gqvP",
        "outputId": "e495f0ed-a7e3-40ac-ff2f-6a4a144521b1"
      },
      "execution_count": 16,
      "outputs": [
        {
          "output_type": "stream",
          "name": "stdout",
          "text": [
            "tf.Tensor(\n",
            "[[1. 0. 0.]\n",
            " [0. 1. 0.]\n",
            " [0. 0. 1.]], shape=(3, 3), dtype=float32)\n",
            "tf.Tensor(\n",
            "[[3. 0. 0.]\n",
            " [0. 3. 0.]\n",
            " [0. 0. 3.]], shape=(3, 3), dtype=float32)\n"
          ]
        }
      ]
    },
    {
      "cell_type": "code",
      "source": [
        "eye_tensor=tf.eye(\n",
        "    num_rows=3,\n",
        "    num_columns=None,\n",
        "    batch_shape=None,\n",
        "    dtype=tf.dtypes.bool,\n",
        "    name=None\n",
        ")\n",
        "print(eye_tensor)"
      ],
      "metadata": {
        "colab": {
          "base_uri": "https://localhost:8080/"
        },
        "id": "gcyNrWF6hJd4",
        "outputId": "463c4bc5-3a63-4795-cc4d-2cd18e56e44b"
      },
      "execution_count": 17,
      "outputs": [
        {
          "output_type": "stream",
          "name": "stdout",
          "text": [
            "tf.Tensor(\n",
            "[[ True False False]\n",
            " [False  True False]\n",
            " [False False  True]], shape=(3, 3), dtype=bool)\n"
          ]
        }
      ]
    },
    {
      "cell_type": "code",
      "source": [
        "eye_tensor=tf.eye(\n",
        "    num_rows=5,\n",
        "    num_columns=3,\n",
        "    batch_shape=None,\n",
        "    dtype=tf.dtypes.float32,\n",
        "    name=None\n",
        ")\n",
        "print(eye_tensor)"
      ],
      "metadata": {
        "id": "l56d3QdYh0dS",
        "outputId": "f9387190-25e4-4d8b-dafe-0a5ce846b753",
        "colab": {
          "base_uri": "https://localhost:8080/"
        }
      },
      "execution_count": 18,
      "outputs": [
        {
          "output_type": "stream",
          "name": "stdout",
          "text": [
            "tf.Tensor(\n",
            "[[1. 0. 0.]\n",
            " [0. 1. 0.]\n",
            " [0. 0. 1.]\n",
            " [0. 0. 0.]\n",
            " [0. 0. 0.]], shape=(5, 3), dtype=float32)\n"
          ]
        }
      ]
    }
  ]
}